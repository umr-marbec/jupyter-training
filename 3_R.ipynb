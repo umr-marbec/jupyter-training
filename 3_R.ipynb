{
 "cells": [
  {
   "cell_type": "markdown",
   "id": "df103a21-4cd1-416f-ba7e-ca03111f737c",
   "metadata": {
    "editable": true,
    "slideshow": {
     "slide_type": "slide"
    },
    "tags": []
   },
   "source": [
    "# Comment travailler et ajouter R à Jupyter Notebook"
   ]
  },
  {
   "cell_type": "markdown",
   "id": "df6edb0d-c8a6-47a7-8c83-1c639e8d39bb",
   "metadata": {},
   "source": [
    "### - Ajouter R à Jupyter"
   ]
  },
  {
   "cell_type": "markdown",
   "id": "c1203a61-eb52-45eb-b626-717653ebd346",
   "metadata": {},
   "source": [
    "**Avec Anaconda** \n",
    "<div style=\"display: flex;\">\n",
    "    <img src=\"img/RAna.webp\" width=\"500\" style=\"margin-right: 10px;\">\n",
    "    <img src=\"img/RAna2.webp\" width=\"500\" style=\"margin-right: 10px;\">\n",
    "</div>"
   ]
  },
  {
   "cell_type": "markdown",
   "id": "2cab69c1-df72-439d-a78b-9654830c41f3",
   "metadata": {},
   "source": [
    "**Avec conda**  \n",
    "Ouvrir le Terminal:\n",
    "\n",
    "- Créez un nouvel environnement conda : \n",
    "```bash\n",
    "conda create -n r-kernel\n",
    "```\n",
    "\n",
    "- Activez l'environnement :\n",
    "```bash\n",
    "conda activate r-kernel\n",
    "```\n",
    "\n",
    "- Installez les paquets R-kernel et Jupyter :\n",
    "```bash\n",
    "conda install r-recommended r-irkernel\n",
    "conda install Jupyter\n",
    "```\n",
    "\n",
    "- Installation d'une spécification de noyau :\n",
    "```bash\n",
    "R -e 'IRkernel::installspec()'\n",
    "```\n",
    "\n",
    "- Exécutez le notebook Jupyter :\n",
    "```bash\n",
    "jupyter-notebook\n",
    "```"
   ]
  },
  {
   "cell_type": "markdown",
   "id": "ab0fa8be-43c6-4386-aece-a620b222076c",
   "metadata": {},
   "source": [
    "**Avec R**  \n",
    "Ouvrir *R* dans le terminal et tapez:\n",
    "\n",
    "```r\n",
    "install.packages(\"IRkernel\")\n",
    "IRkernel::installspec()\n",
    "```\n"
   ]
  },
  {
   "cell_type": "markdown",
   "id": "b417a59e-bb3e-4e39-b3a9-636ead24d60d",
   "metadata": {},
   "source": [
    "### - Lancer Jupyter Notebook  \n",
    "Choisissez le Kernel ***R*** dans Jupyter. \n",
    "Lorsque vous démarrez un nouveau Notebook Jupyter, assurez-vous de choisir ***R*** sous **Start Other Kernel** :"
   ]
  },
  {
   "cell_type": "markdown",
   "id": "042dd8e6-b26a-4f20-ae7a-0f86d679dabd",
   "metadata": {},
   "source": [
    "<div style=\"display: flex;\">\n",
    "    <img src=\"img/RK1.png\" width=\"300\" style=\"margin-right: 10px;\">\n",
    "    <img src=\"img/RK2.png\" width=\"300\" style=\"margin-right: 10px;\">\n",
    "    <img src=\"img/RK3.png\" width=\"300;\">\n",
    "</div>\n"
   ]
  },
  {
   "cell_type": "markdown",
   "id": "6b8408ad-eea4-4ad2-b94f-6b1c70ff5cdd",
   "metadata": {},
   "source": [
    "### - Run R scripts within Jupyter Notebook"
   ]
  },
  {
   "cell_type": "code",
   "execution_count": null,
   "id": "49773b35-be4b-407a-9b4a-734d2027245b",
   "metadata": {},
   "outputs": [],
   "source": [
    "# Installer et charger les packages nécessaires\n",
    "#install.packages(\"ggplot2\")\n",
    "library(ggplot2)\n",
    "\n",
    "# Charger le jeu de données iris\n",
    "data(\"iris\")\n",
    "\n",
    "# Aperçu des premières lignes du jeu de données\n",
    "head(iris)\n",
    "\n",
    "# Diagramme en boîte de la longueur des pétales par espèce\n",
    "ggplot(iris, aes(x = Species, y = Petal.Length, fill = Species)) +\n",
    "  geom_boxplot() +\n",
    "  labs(title = \"Longueur des pétales par espèce d'iris\",\n",
    "       x = \"Espèce\",\n",
    "       y = \"Longueur des pétales\") +\n",
    "  theme_minimal()\n"
   ]
  },
  {
   "cell_type": "code",
   "execution_count": null,
   "id": "192107ae-86e6-4344-94d3-84b2f431d80d",
   "metadata": {},
   "outputs": [],
   "source": [
    "# Installer et charger le package plotly\n",
    "#install.packages(\"plotly\")\n",
    "library(plotly)\n",
    "\n",
    "# Créer un graphique de dispersion interactif de l'iris\n",
    "plot_ly(data = iris, x = ~Sepal.Length, y = ~Sepal.Width, color = ~Species, type = \"scatter\", mode = \"markers\", \n",
    "        marker = list(size = 10)) %>% \n",
    "  layout(title = \"Diagramme de dispersion interactif de l'iris\",\n",
    "         xaxis = list(title = \"Longueur du sépale\"),\n",
    "         yaxis = list(title = \"Largeur du sépale\"),\n",
    "         showlegend = TRUE)\n"
   ]
  },
  {
   "cell_type": "code",
   "execution_count": null,
   "id": "3ce04e0f-cbb1-48bc-b980-237072a70644",
   "metadata": {},
   "outputs": [],
   "source": [
    "library(shiny)\n",
    "\n",
    "# Define UI\n",
    "ui <- fluidPage(\n",
    "  titlePanel(\"Histogramme de la longueur des pétales par espèce d'iris\"),\n",
    "  sidebarLayout(\n",
    "    sidebarPanel(\n",
    "      selectInput(\"species\", \"Choisir une espèce :\", choices = unique(iris$Species))\n",
    "    ),\n",
    "    mainPanel(\n",
    "      plotOutput(\"histogram\")\n",
    "    )\n",
    "  )\n",
    ")\n",
    "\n",
    "# Define server logic\n",
    "server <- function(input, output) {\n",
    "  output$histogram <- renderPlot({\n",
    "    selected_species <- subset(iris, Species == input$species)\n",
    "    hist(selected_species$Petal.Length, main = paste(\"Histogramme de la longueur des pétales pour l'espèce\", input$species),\n",
    "         xlab = \"Longueur des pétales\", ylab = \"Fréquence\")\n",
    "  })\n",
    "}\n",
    "\n",
    "# Run the application\n",
    "shinyApp(ui = ui, server = server)\n"
   ]
  },
  {
   "cell_type": "code",
   "execution_count": null,
   "id": "b9ea7f28-01b7-46ab-80a4-603eb93c97f3",
   "metadata": {},
   "outputs": [],
   "source": []
  }
 ],
 "metadata": {
  "kernelspec": {
   "display_name": "R",
   "language": "R",
   "name": "ir"
  },
  "language_info": {
   "codemirror_mode": "r",
   "file_extension": ".r",
   "mimetype": "text/x-r-source",
   "name": "R",
   "pygments_lexer": "r",
   "version": "4.3.2"
  }
 },
 "nbformat": 4,
 "nbformat_minor": 5
}
