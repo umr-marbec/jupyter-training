{
 "cells": [
  {
   "cell_type": "markdown",
   "id": "eaf109d1-757e-49b5-814f-ebba83ee4125",
   "metadata": {
    "editable": true,
    "slideshow": {
     "slide_type": "slide"
    },
    "tags": []
   },
   "source": [
    "# Serveurs JupyterHub accessibles\n",
    "<center><img src=\"img/MARBEC-GPU.png\" width=\"600\" ></center>\n",
    "Serveur Marbec-gpu"
   ]
  },
  {
   "cell_type": "markdown",
   "id": "0c66dcc8-a0bc-4ab5-8e21-24650e36d56d",
   "metadata": {
    "editable": true,
    "slideshow": {
     "slide_type": "slide"
    },
    "tags": []
   },
   "source": [
    "1. [**MARBEC-GPU**](https://marbec-gpu.ird.fr)\n",
    "\n",
    "Pour accéder à ces ressources, il faut :\n",
    "- Envoyer une demande à Laure Velez et Nicolas Barrier\n",
    "- S’inscrire au DEN\n",
    "- Signer la charte d’utilisation des ressources du [**DEN**](https://drive.ird.fr/s/wFE6DsLEQXjircS)"
   ]
  },
  {
   "cell_type": "markdown",
   "id": "ed7a1d24-fbbf-4516-afe4-9526de0fe77b",
   "metadata": {
    "editable": true,
    "slideshow": {
     "slide_type": "slide"
    },
    "tags": []
   },
   "source": [
    "2. CNRS:[**Jupytercloud-Mathrice**](https://jupytercloud.math.cnrs.fr/sites/)\n",
    "La PLM (Portail Math – CNRS) propose des Notebooks prêts à l’emploi, hébergés\n",
    "sur la plateforme PlmDataHub pour la communauté ESR\n",
    "- Droits d’accés : **Renater**\n",
    "- canal de discussion admin : [**Rocketchat**](https://rocketchat.math.cnrs.fr/channel/jupytercloud)"
   ]
  },
  {
   "cell_type": "markdown",
   "id": "e5a565e3-eeba-4d28-8896-bff13a24e48b",
   "metadata": {
    "editable": true,
    "slideshow": {
     "slide_type": "slide"
    },
    "tags": []
   },
   "source": [
    "3. [**IFB - Institut Français de Bioinformatique**](https://www.france-bioinformatique.fr/cluster-ifb-core/)\n",
    "Des ressources bioinformatiques générales et spécialisées à des utilisateurs de différents domaines et niveaux d’expertise.\n",
    "- Droits d’accès : Demande d'accès à [**IFB-core**](https://my.cluster.france-bioinformatique.fr/manager2/register)\n",
    "- **Services** :\n",
    "    - accès ssh \n",
    "    - Rstudio et JupyterHub : [**ondemand**](https://ondemand.cluster.france-bioinformatique.fr)\n",
    "  - [**Galaxy**](https://usegalaxy.fr)\n",
    "  - Hébergement d’application\n",
    "  - Hébergement de sessions de formation \n",
    "  - support communautaire : [**Community**](https://community.france-bioinformatique.fr)"
   ]
  },
  {
   "cell_type": "markdown",
   "id": "8624cd4c-c586-4dee-8222-2af5b2aa2485",
   "metadata": {
    "editable": true,
    "slideshow": {
     "slide_type": "slide"
    },
    "tags": []
   },
   "source": [
    "4. [**Datarmor**](https://datarmor-jupyterhub.ifremer.fr)\n",
    "\n",
    "- Droits d’accès : Compte Datarmor. Nécessite d’être sur réseau Ifremer (utilisation d’Ivanti à l’extérieur)\n",
    "\n",
    "5. [**Ifremer**](https://jupyterhub.ifremer.fr)\n",
    "\n",
    "- Droits d’accès : IFREMER extranet. Nécessite d’être sur réseau Ifremer (utilisation d’Ivanti à l’extérieur)"
   ]
  },
  {
   "cell_type": "code",
   "execution_count": null,
   "id": "393ff7de-628c-4d3c-b316-348fc5a216d6",
   "metadata": {},
   "outputs": [],
   "source": []
  }
 ],
 "metadata": {
  "kernelspec": {
   "display_name": "Python 3 (ipykernel)",
   "language": "python",
   "name": "python3"
  },
  "language_info": {
   "codemirror_mode": {
    "name": "ipython",
    "version": 3
   },
   "file_extension": ".py",
   "mimetype": "text/x-python",
   "name": "python",
   "nbconvert_exporter": "python",
   "pygments_lexer": "ipython3",
   "version": "3.12.2"
  },
  "toc": {
   "base_numbering": 0
  }
 },
 "nbformat": 4,
 "nbformat_minor": 5
}
