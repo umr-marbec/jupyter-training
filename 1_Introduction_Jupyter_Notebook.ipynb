{
 "cells": [
  {
   "cell_type": "markdown",
   "id": "6cabbce6-4a13-41a3-8820-913c303bd8df",
   "metadata": {
    "editable": true,
    "slideshow": {
     "slide_type": ""
    },
    "tags": []
   },
   "source": [
    "<center>\n",
    "    <h1>Introduction aux notebooks</h1>\n",
    "    <img src='img/logo_Jupyter2.png' width='450'>\n",
    "    <h3>Claudia Restrepo-Ortiz & Nicolas Barrier</h3>\n",
    "    <h4>2 avril 2024</h4>\n",
    "</center><img src='img/logo2.png' width='150' style='float: right;'>"
   ]
  },
  {
   "cell_type": "markdown",
   "id": "bd600341",
   "metadata": {
    "editable": true,
    "slideshow": {
     "slide_type": "slide"
    },
    "tags": []
   },
   "source": [
    "# **Objetifs**  \n",
    "  \n",
    "- Comprendre ce qu'est Jupyter\n",
    "- Se familiariser avec l'environnement Jupyter\n",
    "- Utiliser Markdown pour créer du contenu textuel\n",
    "- Exemples avec Python et R\n",
    "- Explorer les visualisations de données\n",
    "- Autres outils\n",
    "- Se familiariser avec JupyterHub\n"
   ]
  },
  {
   "cell_type": "markdown",
   "id": "439ae350",
   "metadata": {
    "editable": true,
    "slideshow": {
     "slide_type": "slide"
    },
    "tags": []
   },
   "source": [
    "# Qu'est ce que Jupyter?\n",
    "- Est un ensemble d'outils open source pour l'analyse et le traitement de l'information numérique de manière interactive via un navigateur web.\n",
    "<img align=\"right\" width=\"400\" src=\"img/logo_Jupyter1.png\">\n",
    "- Jupyter est un acronyme des principaux langages pour lesquels il a été conçu:\n",
    "- Jupyter n'est pas lié à un langage de programmation particulier, plus de 40 langages de programmation."
   ]
  },
  {
   "cell_type": "markdown",
   "id": "db6343ff-ca44-479d-bfcc-9a59709c7fae",
   "metadata": {
    "editable": true,
    "slideshow": {
     "slide_type": "slide"
    },
    "tags": []
   },
   "source": [
    "## **Pourquoi l'utiliser ?**\n",
    "- **Intuitif** : combine le code, le texte, les images et les visualisations.\n",
    "- **Interactif** : exécute le code cellule par cellule.\n",
    "- **Différents langages de programmation**\n",
    "- **Reproductible et Collaboratif** : travailler simultanément avec d'autres chercheurs. Communauté active et exemples publics (Github)\n",
    "- Tous les logiciels de l'environnement Jupyter, sont gratuits et sous licence libre.\n"
   ]
  },
  {
   "cell_type": "markdown",
   "id": "73cccd16-588c-414b-91a2-a86467089af5",
   "metadata": {
    "editable": true,
    "jp-MarkdownHeadingCollapsed": true,
    "slideshow": {
     "slide_type": "slide"
    },
    "tags": []
   },
   "source": [
    "## **Propriétés de Jupyter Notebook**\n",
    "- Extension *.ipynb* (ipython notebook), qui est un format de texte brut de type [JSON](https://www.json.org/json-en.html).\n",
    "- Peut être converti en présentation [slides show](https://rise.readthedocs.io/en/latest/), en page web statique (HTML), en document PDF, en script (Python ou autre) et d'autres variétés de [format](https://nbconvert.readthedocs.io/en/5.2.1/usage.html)<img align=\"right\" src='img/git_diff.png' width=\"400\"/>\n",
    "- Compatibilité avec les gestionnaires de version tels que **git**.\n"
   ]
  },
  {
   "cell_type": "markdown",
   "id": "90c892bf-87cb-4a11-b116-e3c4292f922d",
   "metadata": {
    "editable": true,
    "slideshow": {
     "slide_type": "slide"
    },
    "tags": []
   },
   "source": [
    "# Le composants de l'écosystème Jupyter"
   ]
  },
  {
   "cell_type": "markdown",
   "id": "17845fe5-8c38-49e9-8be2-8eee282e0c35",
   "metadata": {
    "editable": true,
    "jp-MarkdownHeadingCollapsed": true,
    "slideshow": {
     "slide_type": "subslide"
    },
    "tags": []
   },
   "source": [
    "## ***Jupyter Notebook :*** \n",
    "Le Jupyter Notebook est une application web pour créer et partager des documents computationnels,  intégrant du code, du texte, des images et des équations mathématiques avec une exécution directe du code. <img align=\"right\" src='img/jupyterpreview.png' width=\"600\"/>"
   ]
  },
  {
   "cell_type": "markdown",
   "id": "1c0d1c89-92da-44a6-8144-629e256608b0",
   "metadata": {
    "editable": true,
    "slideshow": {
     "slide_type": "subslide"
    },
    "tags": []
   },
   "source": [
    "## ***JupyterLab :***  \n",
    "C'est l'environnement de développement intégré (IDE) de Jupyter. Il fournit une interface utilisateur plus flexible qui permet de travailler avec plusieurs notebooks, éditeurs de code, terminaux et autres composants dans une seule fenêtre.\n",
    "<center>\n",
    "  <img src='img/labpreview.webp' width=\"400\" >\n",
    "</center>"
   ]
  },
  {
   "cell_type": "markdown",
   "id": "6344e534-634c-4743-8c27-b257085a553e",
   "metadata": {
    "editable": true,
    "slideshow": {
     "slide_type": "subslide"
    },
    "tags": []
   },
   "source": [
    "## ***JupyterHub :*** \n",
    "C'est une application web qui déploie des serveurs Jupyter sur des machines distantes pour permettre la collaboration multi-utilisateurs et le partage de projets de données à grande échelle.\n",
    "<center>\n",
    "  <img src='img/jupyhub.png' width=\"400\" >\n",
    "</center>"
   ]
  },
  {
   "cell_type": "markdown",
   "id": "f1e39870-01ec-4801-a389-f13c2cbaac14",
   "metadata": {
    "editable": true,
    "slideshow": {
     "slide_type": "slide"
    },
    "tags": []
   },
   "source": [
    "## **Propriétés de Jupyter Notebook**\n",
    "Un document contient des cellules:\n",
    "\n",
    "- texte en **Markdown**"
   ]
  },
  {
   "cell_type": "markdown",
   "id": "aea9551d-a4cf-4a04-95b2-2ad84755bcc5",
   "metadata": {
    "editable": true,
    "slideshow": {
     "slide_type": "fragment"
    },
    "tags": []
   },
   "source": [
    "### Ceci est une cellule de texte *Markdown*"
   ]
  },
  {
   "cell_type": "markdown",
   "id": "a645da0f-dbb5-4bb1-84f2-4366ef1a1dcf",
   "metadata": {
    "editable": true,
    "slideshow": {
     "slide_type": "fragment"
    },
    "tags": []
   },
   "source": [
    "- **Raw:**"
   ]
  },
  {
   "cell_type": "raw",
   "id": "7862a832-1522-41f3-981d-8b4813ac4fcd",
   "metadata": {
    "editable": true,
    "slideshow": {
     "slide_type": ""
    },
    "tags": []
   },
   "source": []
  },
  {
   "cell_type": "markdown",
   "id": "9cc11cce-d8a1-4a20-85de-e9f0593c61dc",
   "metadata": {
    "editable": true,
    "slideshow": {
     "slide_type": "fragment"
    },
    "tags": []
   },
   "source": [
    "- Et **Code:**"
   ]
  },
  {
   "cell_type": "code",
   "execution_count": null,
   "id": "e499dc96-5136-42f1-b4ef-daabc91bc766",
   "metadata": {
    "editable": true,
    "slideshow": {
     "slide_type": ""
    },
    "tags": []
   },
   "outputs": [],
   "source": []
  },
  {
   "cell_type": "code",
   "execution_count": null,
   "id": "56501b28-8b61-4cbc-8eaa-3f7550921f0b",
   "metadata": {
    "editable": true,
    "slideshow": {
     "slide_type": "skip"
    },
    "tags": []
   },
   "outputs": [],
   "source": []
  },
  {
   "cell_type": "markdown",
   "id": "9fd16aa2-d6db-44b3-a630-92b8a5d3a169",
   "metadata": {
    "editable": true,
    "slideshow": {
     "slide_type": "slide"
    },
    "tags": []
   },
   "source": [
    "## L'interface Jupyter Notebook:  \n",
    "<center> <img src='img/notebook_components.webp' width=\"500\" > </center>\n",
    "\n",
    "- Le *Kernel* (noyau) est le moteur qui permet au code de s'exécuter. Il agit comme un interprète spécifique au langage de programmation utilisé.\n"
   ]
  },
  {
   "cell_type": "markdown",
   "id": "26d05c19-de51-4c41-bb7b-ca02e35d2a91",
   "metadata": {
    "editable": true,
    "slideshow": {
     "slide_type": "slide"
    },
    "tags": []
   },
   "source": [
    "## **Installation de l’écosystème Jupyter**\n",
    "\n",
    "Via [pip](jupyter.org/install.html)\n",
    "\n",
    "<p align=\"center\">\n",
    "  <img src='img/installpip.png'>\n",
    "</p>"
   ]
  },
  {
   "cell_type": "markdown",
   "id": "307cb2f2-87bb-4230-b41d-ea9fdd799bdd",
   "metadata": {
    "editable": true,
    "slideshow": {
     "slide_type": "slide"
    },
    "tags": []
   },
   "source": [
    "## **Installation de l’écosystème Jupyter**\n",
    "\n",
    "Via [Anaconda](https://www.anaconda.com/download)\n",
    "\n",
    "<img src='img/anaconda.png' width=\"700\">\n"
   ]
  },
  {
   "cell_type": "markdown",
   "id": "0a4933b8-dd75-48d3-9f69-f1d8f835d661",
   "metadata": {
    "editable": true,
    "slideshow": {
     "slide_type": "slide"
    },
    "tags": []
   },
   "source": [
    "## **JupyterLab Desktop App**\n",
    "\n",
    "[JupyterLab App](https://github.com/jupyterlab/jupyterlab-desktop)\n",
    "\n",
    "<img src='img/jupyterlab-desktop.png' width=\"700\">\n"
   ]
  },
  {
   "cell_type": "code",
   "execution_count": 1,
   "id": "08cd21ec-5dc2-4c88-9e70-97d74c99fdde",
   "metadata": {
    "editable": true,
    "slideshow": {
     "slide_type": "skip"
    },
    "tags": []
   },
   "outputs": [],
   "source": [
    "import pyfiglet\n",
    "from colorama import Fore, Back\n",
    "\n",
    "def print_rainbow_figlet(text):\n",
    "    colors = [Fore.RED, Fore.YELLOW, Fore.GREEN, Fore.BLUE, Fore.MAGENTA, Fore.CYAN]\n",
    "    rainbow_text = ''\n",
    "    for char, color in zip(text, colors * (len(text) // len(colors) + 1)):\n",
    "        rainbow_text += color + char\n",
    "    print(Back.BLACK + rainbow_text + Back.RESET)"
   ]
  },
  {
   "cell_type": "markdown",
   "id": "440842d5-3f15-496b-9903-c780f2d7224a",
   "metadata": {
    "editable": true,
    "slideshow": {
     "slide_type": "slide"
    },
    "tags": []
   },
   "source": [
    "# **Travailler avec Jupyter**"
   ]
  },
  {
   "cell_type": "code",
   "execution_count": null,
   "id": "e04480c2-b1a9-4f32-b971-14f41aec8d16",
   "metadata": {
    "editable": true,
    "slideshow": {
     "slide_type": ""
    },
    "tags": []
   },
   "outputs": [],
   "source": [
    "text = \"LET'S GO !\"\n",
    "styled_text = pyfiglet.figlet_format(text, font='poison', justify='center')\n",
    "print_rainbow_figlet(styled_text)"
   ]
  },
  {
   "cell_type": "code",
   "execution_count": null,
   "id": "d2fd743b-0eee-45bb-a570-e9c692c69196",
   "metadata": {
    "editable": true,
    "slideshow": {
     "slide_type": "skip"
    },
    "tags": []
   },
   "outputs": [],
   "source": []
  }
 ],
 "metadata": {
  "celltoolbar": "Slideshow",
  "kernelspec": {
   "display_name": "Python 3 (ipykernel)",
   "language": "python",
   "name": "python3"
  },
  "language_info": {
   "codemirror_mode": {
    "name": "ipython",
    "version": 3
   },
   "file_extension": ".py",
   "mimetype": "text/x-python",
   "name": "python",
   "nbconvert_exporter": "python",
   "pygments_lexer": "ipython3",
   "version": "3.12.2"
  },
  "rise": {
   "theme": "serif"
  },
  "toc": {
   "base_numbering": 0
  }
 },
 "nbformat": 4,
 "nbformat_minor": 5
}
