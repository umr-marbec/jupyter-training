{
 "cells": [
  {
   "cell_type": "markdown",
   "id": "1c2b69be-44a5-4dcc-ab35-5e2f314988de",
   "metadata": {
    "editable": false,
    "slideshow": {
     "slide_type": ""
    },
    "tags": []
   },
   "source": [
    "# Notebook: Interface utilisateur\n",
    "### Comment lancer Jupyter\n",
    "\n",
    "- Sous Mac ou GNU/Linux, dans un terminal : `$ jupyter-notebook`,\n",
    "- Sous Windows, avec Anaconda, il y a un lanceur graphique installé.\n",
    "\n",
    "  \n",
    "Lorsque vous créez un nouveau document notebook, le nom du notebook, une barre de menu, une barre d'outils, une cellule de code vide et le kernel s'affichent.\n",
    "<center><img src=\"img/JN.png\" width=\"700\" ></center>"
   ]
  },
  {
   "cell_type": "markdown",
   "id": "ed4ba553-40c8-4f03-aa96-592766379d10",
   "metadata": {
    "slideshow": {
     "slide_type": ""
    },
    "tags": []
   },
   "source": [
    "## Jupyter pour écrire des documents\n",
    "\n",
    "On peut *utiliser* le langage à balise [Markdown](https://jupyter-notebook.readthedocs.io/en/stable/examples/Notebook/Working%20With%20Markdown%20Cells.html) ! Et $\\LaTeX^2$\n",
    "\n",
    "Pour lancer une cellule Markdown, sélectionnez le type dans la barre d'outils.\n",
    "\n",
    "<center><img src=\"img/codeM.png\" width=\"700\" ></center> "
   ]
  },
  {
   "cell_type": "markdown",
   "id": "12bab668-9978-4008-a59c-88bb80b4b264",
   "metadata": {},
   "source": [
    "### **Cellules de texte**\n",
    "\n",
    "Créez une nouvelle cellule, changez son type en `Markdown`, tapez quelques mots et appuyez sur `Ctrl-Enter`. Jupyter Notebook \"rendra\" le texte et l'affichera sur la page. Vous pouvez appuyer sur `Enter` ou cliquer dans la cellule pour modifier à nouveau son contenu. "
   ]
  },
  {
   "cell_type": "markdown",
   "id": "3cf240b3-e36f-4cec-9b94-0c6bb0fc3dab",
   "metadata": {},
   "source": [
    "**Markdown basics**"
   ]
  },
  {
   "cell_type": "raw",
   "id": "403a1b00-aedb-4bba-947a-a1992a5c6ece",
   "metadata": {
    "editable": true,
    "slideshow": {
     "slide_type": ""
    },
    "tags": []
   },
   "source": [
    "# titre de niveau 1 \n",
    "## titre de niveau 2 \n",
    "Texte simple qui forme un paragraphe. \n",
    "Les caractères **gras** et __gras__, ou *italique* et _italique_ permettent d'accentuer le texte.   \n",
    "Les paragraphes doivent être séparés par une ligne vide.   \n",
    "* Inclure des listes.  \n",
    "* Complétées à l'aide d'astérisques.   \n",
    "1. Les listes peuvent également être numérotées.  \n",
    "2. Si nous voulons une liste ordonnée.  \n",
    "\n",
    "[Il est possible d'inclure des liens hypertextes](https://www.example.com) \n",
    "Le code en ligne utilise un seul point d'interrogation : foo(), et les blocs de code utilisent un triple point d'interrogation :  \n",
    "```\n",
    "bar() \n",
    "``` \n",
    "\n",
    "ajout d'images: ![Alt text](https://www.example.com/image.jpg)"
   ]
  },
  {
   "cell_type": "markdown",
   "id": "f56849ef-ccee-408d-954b-81f8bcf2f3ea",
   "metadata": {},
   "source": [
    "**LaTeX equations**\n",
    "\n",
    "vous pouvez inclure des expressions mathématiques à la fois en ligne et affichées.  \n",
    "- Inline expressions can be added by surrounding the latex code with `$`\n",
    "- Les expressions affichées sont entourées de `\\begin{equation}` et `\\end{equation}`"
   ]
  },
  {
   "cell_type": "raw",
   "id": "a14b8a24-d904-4625-b118-5375e7c3ee0e",
   "metadata": {},
   "source": [
    "$e^{i\\pi} + 1 = 0$"
   ]
  },
  {
   "cell_type": "raw",
   "id": "2f6e374e-c249-481e-a60b-010716975ecf",
   "metadata": {},
   "source": [
    "\\begin{equation}\n",
    "e^x=\\sum_{i=0}^\\infty \\frac{1}{i!}x^i\n",
    "\\end{equation}"
   ]
  },
  {
   "cell_type": "markdown",
   "id": "75795fc0-24dc-482c-8d19-268d6a42b268",
   "metadata": {},
   "source": [
    "**Blocs de code**\n",
    "\n",
    "Notebook supporte le markdown Github, vous pouvez utiliser des triples crochets pour les blocs de code :"
   ]
  },
  {
   "cell_type": "raw",
   "id": "db9a47c8-4e8f-4345-a35b-8b9bfddee6e8",
   "metadata": {},
   "source": [
    "\n",
    "```python\n",
    "print \"Hello World\"\n",
    "```\n",
    "\n",
    "```javascript\n",
    "console.log(\"Hello World\")\n",
    "```"
   ]
  },
  {
   "cell_type": "markdown",
   "id": "7257ae4a-9055-4845-a432-5581aa8b6906",
   "metadata": {},
   "source": [
    "### **Cellules Raw**  \n",
    "Vous pouvez intégrer du code destiné à l'illustration plutôt qu'à l'exécution"
   ]
  },
  {
   "cell_type": "raw",
   "id": "1d2904e5-064e-4c5b-90d5-b3d45d1942cb",
   "metadata": {},
   "source": [
    "def f(x):\n",
    "    \"\"\"a docstring\"\"\"\n",
    "    return x**2"
   ]
  },
  {
   "cell_type": "raw",
   "id": "6f3960f5-2d9c-49d9-b4dc-d2fefc3cddd5",
   "metadata": {},
   "source": [
    "for (i=0; i<n; i++) {\n",
    "  printf(\"hello %d\\n\", i);\n",
    "  x += 4;\n",
    "}"
   ]
  },
  {
   "cell_type": "markdown",
   "id": "151ac561-8263-4065-a350-04c6b2fa9a87",
   "metadata": {},
   "source": [
    "### **Cellules de Code**\n",
    "\n",
    "Vous pouvez également appuyer sur `Alt-Entrée` pour rendre la cellule actuelle et créer une nouvelle cellule. Les nouvelles cellules seront par défaut des cellules de code."
   ]
  },
  {
   "cell_type": "raw",
   "id": "4a746151-14b4-4fc7-b853-2f4235e66ae9",
   "metadata": {},
   "source": [
    "print(\"Hello\")\n",
    "print(\"\")\n",
    "print(\"Tout code Python que vous tapez dans cette cellule sera exécuté lorsque vous appuyez sur le bouton 'Exécuter',\") \n",
    "print(\"ou lorsque vous appuyez sur Ctrl-Entrée.\")\n",
    "print(\"\") \n",
    "print(\"Si le code évalue quelque chose, ou s'il produit une sortie, cette sortie sera\")\n",
    "print(\"affichée sous la cellule après que vous l'ayez exécuté.\")"
   ]
  },
  {
   "cell_type": "raw",
   "id": "228e758e-a222-40bf-9cfe-3c11fce1b2e1",
   "metadata": {},
   "source": [
    "print(\"Si votre code Python génère une erreur, celle-ci sera affichée en plus\")\n",
    "1 / 0\n"
   ]
  },
  {
   "cell_type": "markdown",
   "id": "4e7a49db-34c4-4f98-8b93-5fb958cd9c73",
   "metadata": {},
   "source": [
    "### ***Kernels***  \n",
    "\n",
    "Lorsque vous exécutez une cellule de code, ce code est exécuté dans le *kernel*.  \n",
    "Toute sortie est renvoyée à la cellule pour être affichée. L'état du *kernel* persiste dans le temps et entre les cellules - il concerne le document dans son ensemble et non les cellules individuelles.  \n",
    "\n",
    "La plupart du temps, le flux dans un Notebook se fait de haut en bas. Mais il est fréquent de revenir en arrière pour apporter des modifications.  \n",
    "Nous pouvons voir l'ordre d'exécution à gauche de chaque cellule (`[6]`).  \n",
    "Si jamais est nécessaire réinitialiser, il existe plusieurs options dans le menu Kernel :  \n",
    "- `Restart`: redémarre le noyau, effaçant ainsi toutes les variables, etc. qui ont été définies.\n",
    "- `Restart & Clear Output`: idem que ci-dessus mais effacera également la sortie affichée sous les cellules de code.\n",
    "- `Restart & Run All`: idem que ci-dessus mais exécutera toutes les cellules dans l'ordre, de la première à la dernière.\n",
    "- `Interrupt`: Si le *kernel* est bloqué sur un calcul ous pouvons l'arrêter."
   ]
  },
  {
   "cell_type": "markdown",
   "id": "f2570774-a5e1-4d14-855e-3cc6327feddf",
   "metadata": {},
   "source": [
    "### **Raccourcis clavier**  \n",
    "\n",
    "`Ctrl-Enter` exécute la cellule en cours  \n",
    "`Alt-Enter` exécute la cellule en cours et crée ensuite une nouvelle cellule.  \n",
    "`Enter` lance l'édition de la cellule sélectionnée.   \n",
    "Pour quitter l'édition d'une cellule, appuyez sur `Esc`.   \n",
    "\n",
    "*Si le curseur n'est pas actif dans une cellule*  \n",
    "`m` convertit la cellule sélectionnée en cellule Markdown  \n",
    "`b` insère une nouvelle cellule sous la cellule sélectionnée  \n",
    "`x` \"coupe\" la cellule sélectionnée  \n",
    "`v` colle une cellule précédemment coupée sous la cellule   sélectionnée  \n",
    "`Cmd-S`Sauvegarde\n",
    "`h` fait apparaître un écran d'aide contenant de nombreux autres raccourcis.  \n",
    "\n",
    "Vous pouvez \"télécharger\" votre notebook dans différents formats via `File > Save And Export Notebook As`. Vous pouvez télécharger votre notebook sous forme de fichier HTML statique, fichier .ipynb, PDF, etc.\n"
   ]
  },
  {
   "cell_type": "markdown",
   "id": "a2030099-15ce-461a-b896-863fa77d943e",
   "metadata": {},
   "source": [
    "### **Les lignes magiques dans Jupyter**"
   ]
  },
  {
   "cell_type": "markdown",
   "id": "b534969c-4034-4beb-b6d9-37ff243ebdf4",
   "metadata": {},
   "source": [
    "Lorsque nous utilisons `%matplotlib inline`, les graphiques Matplotlib s'affichent directement dans le Notebook. "
   ]
  },
  {
   "cell_type": "code",
   "execution_count": null,
   "id": "19525772-662a-406f-9a9b-74f4e4805de0",
   "metadata": {
    "editable": true,
    "slideshow": {
     "slide_type": ""
    },
    "tags": []
   },
   "outputs": [],
   "source": [
    "import numpy as np\n",
    "import matplotlib.pyplot as plt\n",
    "%matplotlib inline \n",
    "\n",
    "plt.ion()\n",
    "\n",
    "data = np.random.randn(2, 100)\n",
    "fig, ax = plt.subplots()\n",
    "ax.scatter(*data, c=data[1], s=100*np.abs(data[0]));"
   ]
  },
  {
   "cell_type": "markdown",
   "id": "ff72964a-31b1-43b8-89cc-ed5c0fe55028",
   "metadata": {},
   "source": [
    "tapez `%lsmagic` dans une cellule code, et exécutez la cellule. Vous obtiendrez une liste des lignes et cellules magiques disponibles.  \n",
    "\n",
    "- Les *lignes magiques* opèrent sur une seule ligne d'une cellule de code\n",
    "- Les *cellules magiques* agissent sur l'ensemble de la cellule de code dans laquelle elles sont appelées."
   ]
  },
  {
   "cell_type": "markdown",
   "id": "f438d9fb-3a2e-42c0-bce8-53217b6696c6",
   "metadata": {},
   "source": [
    "### Lancement d'une commande Unix  \n",
    "\n",
    "Il est possible de lancer une commande Unix depuis un notebook Jupyter. Il faut pour cela précéder la commande du symbole `!`  \n",
    "e.g. `!ls`"
   ]
  },
  {
   "cell_type": "code",
   "execution_count": null,
   "id": "b6848255-006f-4482-8373-c465578e6bcb",
   "metadata": {},
   "outputs": [],
   "source": [
    "!ls"
   ]
  },
  {
   "cell_type": "markdown",
   "id": "327dab65-81af-4556-a788-f375abe5bab9",
   "metadata": {},
   "source": [
    "### **Exemple: Bref usage de python et de données Iris**\n",
    "\n",
    "**Configuration** \n",
    "Il est courant de commencer par une cellule de code spécifique pour les importations et la configuration."
   ]
  },
  {
   "cell_type": "code",
   "execution_count": null,
   "id": "8c8bfaad-8f13-4642-a92e-0da689ff58a3",
   "metadata": {},
   "outputs": [],
   "source": [
    "%matplotlib inline\n",
    "import pandas as pd\n",
    "import matplotlib.pyplot as plt\n",
    "import seaborn as sns \n",
    "from sklearn.datasets import load_iris\n",
    "from sklearn.cluster import KMeans\n",
    "sns.set(style=\"darkgrid\")"
   ]
  },
  {
   "cell_type": "markdown",
   "id": "2f45a9ae-ff47-421e-995f-35f0c61a92cf",
   "metadata": {},
   "source": [
    "Nous allons importer:  \n",
    "`pandas` pour travailler avec les données  \n",
    "`Matplotlib` pour tracer des graphiques  \n",
    "`Seaborn` pour rendre les graphiques plus jolis\n",
    "`sns.set(style=\"darkgrid\")` c'est une ligne magique pour demander à `Jupyter` de capturer les tracés *Matplotlib* et de les rendre dans la sortie de la cellule. "
   ]
  },
  {
   "cell_type": "code",
   "execution_count": null,
   "id": "c578fab9-f971-4acc-b0e7-fa0af2c29062",
   "metadata": {},
   "outputs": [],
   "source": [
    "# Chargement du jeu de données Iris\n",
    "iris = sns.load_dataset('iris')"
   ]
  },
  {
   "cell_type": "code",
   "execution_count": null,
   "id": "a4f33a16-30b8-4d78-a445-1a7a543d6f7e",
   "metadata": {},
   "outputs": [],
   "source": [
    "# Affichage des cinq premières lignes du jeu de données\n",
    "print(\"Aperçu des données Iris :\")\n",
    "iris.head()"
   ]
  },
  {
   "cell_type": "code",
   "execution_count": null,
   "id": "d7638f76-c823-4ae6-b84b-16aeb15e7046",
   "metadata": {},
   "outputs": [],
   "source": [
    "# Informations sur les données\n",
    "iris.info()"
   ]
  },
  {
   "cell_type": "code",
   "execution_count": null,
   "id": "82ca1712-955b-4f59-af52-82933b150f60",
   "metadata": {},
   "outputs": [],
   "source": [
    "# Statistiques descriptives\n",
    "print(\"\\nStatistiques descriptives des données Iris :\")\n",
    "iris.describe()"
   ]
  },
  {
   "cell_type": "code",
   "execution_count": null,
   "id": "cf38cb7d-940f-48ef-be2b-b262af37b4d5",
   "metadata": {},
   "outputs": [],
   "source": [
    "# Visualisation des données avec Matplotlib\n",
    "# Pairplot pour visualiser les relations entre les variables\n",
    "print(\"\\nVisualisation des relations entre les variables avec Pairplot :\")\n",
    "sns.pairplot(iris, hue='species')\n",
    "plt.show()"
   ]
  },
  {
   "cell_type": "code",
   "execution_count": null,
   "id": "85ce8fc4-9381-4222-8c89-7d40dceeb81a",
   "metadata": {},
   "outputs": [],
   "source": [
    "# Boxplot pour visualiser la répartition des données pour chaque espèce\n",
    "print(\"\\nBoxplot pour visualiser la répartition des données pour chaque espèce :\")\n",
    "plt.figure(figsize=(10, 6))\n",
    "sns.boxplot(data=iris, x='species', y='sepal_length')\n",
    "plt.title('Répartition de la longueur des sépales par espèce')\n",
    "plt.show()"
   ]
  },
  {
   "cell_type": "code",
   "execution_count": null,
   "id": "ec72eb9d-aa43-45a4-9aa7-a5bfa0b487b7",
   "metadata": {},
   "outputs": [],
   "source": [
    "# Exclure la colonne \"species\"\n",
    "iris_numeric = iris.drop('species', axis=1)\n",
    "\n",
    "# Heatmap pour visualiser les corrélations entre les variables numériques\n",
    "print(\"\\nHeatmap pour visualiser les corrélations entre les variables :\")\n",
    "plt.figure(figsize=(8, 6))\n",
    "sns.heatmap(iris_numeric.corr(), annot=True, cmap='coolwarm', linewidths=0.5)\n",
    "plt.title('Corrélations entre les variables')\n",
    "plt.show()\n"
   ]
  },
  {
   "cell_type": "code",
   "execution_count": null,
   "id": "47fe61b2-84a6-471e-b34c-6b657f6435ff",
   "metadata": {},
   "outputs": [],
   "source": [
    "# Clustering avec K-Means\n",
    "# Sélection des caractéristiques à utiliser pour le clustering\n",
    "X = iris.drop(['species'], axis=1)"
   ]
  },
  {
   "cell_type": "code",
   "execution_count": null,
   "id": "f23e86ee-c662-4327-8587-bbb8074c50d1",
   "metadata": {},
   "outputs": [],
   "source": [
    "# Clustering avec K-Means en utilisant 3 clusters (car nous savons qu'il y a 3 espèces)\n",
    "kmeans = KMeans(n_clusters=3, random_state=42)\n",
    "kmeans.fit(X)"
   ]
  },
  {
   "cell_type": "code",
   "execution_count": null,
   "id": "903d94f8-f0ed-4f10-9f44-82e2c19e6ac7",
   "metadata": {},
   "outputs": [],
   "source": [
    "# Ajout des étiquettes de clusters au jeu de données\n",
    "iris['cluster'] = kmeans.labels_"
   ]
  },
  {
   "cell_type": "code",
   "execution_count": null,
   "id": "b7fa12ef-1ecd-4dd9-b1de-05367ed5d123",
   "metadata": {},
   "outputs": [],
   "source": [
    "# Visualisation des clusters avec Matplotlib\n",
    "plt.figure(figsize=(10, 6))\n",
    "sns.scatterplot(data=iris, x='sepal_length', y='sepal_width', hue='cluster', palette='viridis', s=100)\n",
    "plt.title('Clustering des iris selon les caractéristiques des sépales')\n",
    "plt.xlabel('Longueur du sépale')\n",
    "plt.ylabel('Largeur du sépale')\n",
    "plt.legend(title='Cluster')\n",
    "plt.show()"
   ]
  },
  {
   "cell_type": "code",
   "execution_count": null,
   "id": "5f64dd93-2d8d-4206-8c45-9a9e804d6ca9",
   "metadata": {},
   "outputs": [],
   "source": []
  }
 ],
 "metadata": {
  "kernelspec": {
   "display_name": "Python 3 (ipykernel)",
   "language": "python",
   "name": "python3"
  },
  "language_info": {
   "codemirror_mode": {
    "name": "ipython",
    "version": 3
   },
   "file_extension": ".py",
   "mimetype": "text/x-python",
   "name": "python",
   "nbconvert_exporter": "python",
   "pygments_lexer": "ipython3",
   "version": "3.12.2"
  }
 },
 "nbformat": 4,
 "nbformat_minor": 5
}
