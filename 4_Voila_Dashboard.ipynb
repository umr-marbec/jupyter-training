{
 "cells": [
  {
   "cell_type": "markdown",
   "id": "1deafe74-0cd2-40d0-ac88-e5e2ec850f3e",
   "metadata": {
    "editable": true,
    "slideshow": {
     "slide_type": ""
    },
    "tags": []
   },
   "source": [
    "# Utiliser Voilà pour transformer votre Notebook Jupyter en application Web"
   ]
  },
  {
   "cell_type": "markdown",
   "id": "ea56b050-7693-4081-8d6d-6e8aec1c646c",
   "metadata": {},
   "source": [
    "Voici un exemple de création d'une interface interactive à l'aide de widgets IPython dans Jupyter Notebook.\n",
    "- Curseur pour entrer un numéro et un bouton pour le doubler, affichant le résultat dans une zone de sortie lorsque le bouton est cliqué."
   ]
  },
  {
   "cell_type": "code",
   "execution_count": null,
   "id": "1712fcce-3e1c-4dc2-9215-b99c3f3c148e",
   "metadata": {},
   "outputs": [],
   "source": [
    "#Librairies nécessaires\n",
    "# !pip install ipywidgets\n",
    "# !pip install plotly\n",
    "# !pip install voila\n",
    "\n",
    "from ipywidgets import Dropdown\n",
    "from ipywidgets import Layout\n",
    "from ipywidgets import HBox, VBox\n",
    "import ipywidgets as widgets\n",
    "from IPython.display import display\n",
    "import pandas as pd\n",
    "from sklearn.datasets import load_iris\n",
    "import plotly.graph_objects as go"
   ]
  },
  {
   "cell_type": "code",
   "execution_count": null,
   "id": "f14272dd-87af-431c-9e54-19e29fa5d947",
   "metadata": {
    "editable": true,
    "slideshow": {
     "slide_type": ""
    },
    "tags": []
   },
   "outputs": [],
   "source": [
    "# Définir les widgets\n",
    "slider = widgets.IntSlider(description='Nombre:')\n",
    "button = widgets.Button(description='Double')\n",
    "output = widgets.Output()\n",
    "\n",
    "# Fonction permettant de doubler le nombre\n",
    "def double_number(b):\n",
    "    with output:\n",
    "        output.clear_output()\n",
    "        print(\"Le double de {} est:\".format(slider.value), 2 * slider.value)\n",
    "\n",
    "# Attribuer une fonction à la touche\n",
    "button.on_click(double_number)\n",
    "\n",
    "# Afficher les widgets\n",
    "display(slider, button, output)\n"
   ]
  },
  {
   "cell_type": "markdown",
   "id": "3e73b7d2-6a10-4292-a6b7-2b01b678ce68",
   "metadata": {
    "editable": true,
    "slideshow": {
     "slide_type": ""
    },
    "tags": [
     "hide"
    ]
   },
   "source": [
    "### Construire une visualisation interactive avec le Jeu de données Iris."
   ]
  },
  {
   "cell_type": "code",
   "execution_count": null,
   "id": "8aa67583-4436-4a91-8c08-f059c673dfaf",
   "metadata": {
    "editable": true,
    "slideshow": {
     "slide_type": ""
    },
    "tags": []
   },
   "outputs": [],
   "source": [
    "#charger le jeu de données Iris.\n",
    "\n",
    "data = load_iris()\n",
    "df = pd.DataFrame(data = data['data'], columns = data.feature_names)\n",
    "species_dict = {0:'setosa', 1: 'versicolor', 2: 'virginica'}\n",
    "df['species'] = [species_dict[x] for x in data.target]\n",
    "#df"
   ]
  },
  {
   "cell_type": "code",
   "execution_count": null,
   "id": "b212b62e-ee36-4e1c-a13e-8f7da557250c",
   "metadata": {
    "editable": true,
    "slideshow": {
     "slide_type": "skip"
    },
    "tags": []
   },
   "outputs": [],
   "source": [
    "#Construire la visualisation qui sera affichée dans l'application web.\n",
    "#on utilise une sous-classe des objets de Plotly appelée FigureWidget. \n",
    "#L'utilisation de cette classe de visualisation permettra d'ajouter\n",
    "#l'interactivité utilisateur.\n",
    "\n",
    "\"------\"\n",
    "# définir les valeurs par défaut des axes x et y \n",
    "x = 'sepal length (cm)'\n",
    "y = 'sepal width (cm)'# créer des sous-ensembles df par espèce pour les utiliser dans les traces\n",
    "df_setosa = df[df.species == 'setosa']\n",
    "df_versicolor = df[df.species == 'versicolor']\n",
    "df_virginica = df[df.species == 'virginica']# créer des traces pour chaque espèce\n",
    "setosa = go.Scatter(x=df_setosa[x], y=df_setosa[y],\n",
    " mode='markers',\n",
    " name='setosa')\n",
    "versicolor = go.Scatter(x=df_versicolor[x], y=df_versicolor[y],\n",
    " mode='markers',\n",
    " name='versicolor')\n",
    "virginica = go.Scatter(x=df_virginica[x], y=df_virginica[y],\n",
    " mode='markers',\n",
    " name='virginica')# créer l'objet graphique en tant que FigureWidget\n",
    "g = go.FigureWidget(data=[setosa, versicolor, virginica],\n",
    " layout=go.Layout(\n",
    " title={\n",
    " 'text': \"Iris Measurements\",\n",
    " 'y':0.85,\n",
    " 'x':0.5,\n",
    " 'xanchor': 'center',\n",
    " 'yanchor': 'top'},\n",
    " xaxis_title=x,\n",
    " yaxis_title=y,\n",
    " legend_title = \"Iris Species\"\n",
    " )) \n"
   ]
  },
  {
   "cell_type": "code",
   "execution_count": null,
   "id": "7746a970-ad75-4654-9dea-ddb2e721af8a",
   "metadata": {
    "editable": true,
    "slideshow": {
     "slide_type": "skip"
    },
    "tags": [
     "hide"
    ]
   },
   "outputs": [],
   "source": [
    "#Maintenant, on veut que les utilisateurs puissent modifier les \n",
    "#variables sur les axes x et y. Pour ce faire, on peut créer des \n",
    "#widgets de menu déroulant pour chaque axe.\n",
    "\n",
    "select_x = Dropdown(options = data.feature_names,\n",
    " layout = Layout(width = '160px'))\n",
    "select_y = Dropdown(options = data.feature_names[::-1],\n",
    " layout = Layout(width = '160px'))\n",
    "#HBox([select_x, select_y]) # pour voir un aperçu des widgets"
   ]
  },
  {
   "cell_type": "code",
   "execution_count": null,
   "id": "e9f22143-a23e-4ae0-8a54-b8f4363e7e2c",
   "metadata": {
    "editable": true,
    "slideshow": {
     "slide_type": ""
    },
    "tags": []
   },
   "outputs": [],
   "source": [
    "#La prochaine étape consiste à définir l'interaction entre le widget \n",
    "#et la visualisation. Écrivez une fonction pour mettre à jour les \n",
    "#valeurs des axes x et y ainsi que les étiquettes des axes. \n",
    "#Utilisez la variable \"g\" pour accéder à la figure.\n",
    "\n",
    "\n",
    "def response(change): \n",
    "    with g.batch_update(): \n",
    "      g.data[0].x = df_setosa[select_x.value]\n",
    "      g.data[1].x = df_versicolor[select_x.value]\n",
    "      g.data[2].x = df_virginica[select_x.value]\n",
    "      g.data[0].y = df_setosa[select_y.value]\n",
    "      g.data[1].y = df_versicolor[select_y.value]\n",
    "      g.data[2].y = df_virginica[select_y.value]  \n",
    "      g.layout = go.Layout(\n",
    "      title={\n",
    "       'text': \"Iris Measurements\",\n",
    "       'y':0.85,\n",
    "       'x':0.5,\n",
    "       'xanchor': 'center',\n",
    "       'yanchor': 'top'},\n",
    "       xaxis_title=select_x.value,\n",
    "       yaxis_title=select_y.value,\n",
    "       legend_title = \"Iris Species\"\n",
    "       )"
   ]
  },
  {
   "cell_type": "code",
   "execution_count": null,
   "id": "a4041a68-612b-4983-98a3-2ec0d788789d",
   "metadata": {
    "editable": true,
    "slideshow": {
     "slide_type": ""
    },
    "tags": []
   },
   "outputs": [],
   "source": [
    "#lier les widgets à la fonction de réponse lorsqu'ils sont modifiés.\n",
    "#Cela se fait en utilisant la fonction observe d'IPYWidgets.\n",
    "\n",
    "select_x.observe(response, names=\"value\")\n",
    "select_y.observe(response, names = \"value\")"
   ]
  },
  {
   "cell_type": "code",
   "execution_count": null,
   "id": "02de3e0e-270d-4200-9979-7fe773f215f9",
   "metadata": {
    "editable": true,
    "slideshow": {
     "slide_type": ""
    },
    "tags": []
   },
   "outputs": [],
   "source": [
    "#afficher les widgets avec la visualisation.\n",
    "container = HBox([select_x, select_y])\n",
    "VBox([container, g])"
   ]
  },
  {
   "cell_type": "markdown",
   "id": "a4dd73b2-52af-4422-91ad-0d6b81c3a467",
   "metadata": {
    "editable": true,
    "slideshow": {
     "slide_type": ""
    },
    "tags": []
   },
   "source": [
    "## Les applications Voilà peuvent être déployées à l'aide de Binder, Heroku, Google App Engine ou un serveur privé. Voir [ici](https://voila.readthedocs.io/en/stable/deploy.html) pour plus d'informations."
   ]
  },
  {
   "cell_type": "code",
   "execution_count": null,
   "id": "bf49c984-874f-42ed-8d77-c4497f2f154b",
   "metadata": {
    "editable": true,
    "slideshow": {
     "slide_type": ""
    },
    "tags": []
   },
   "outputs": [],
   "source": [
    "#Utilisez la commande suivante dans un terminal, à partir du \n",
    "#répertoire où se trouve ce carnet. \n",
    "\n",
    "#voila 4_Voila_Dashboard.ipynb"
   ]
  }
 ],
 "metadata": {
  "kernelspec": {
   "display_name": "Python 3 (ipykernel)",
   "language": "python",
   "name": "python3"
  },
  "language_info": {
   "codemirror_mode": {
    "name": "ipython",
    "version": 3
   },
   "file_extension": ".py",
   "mimetype": "text/x-python",
   "name": "python",
   "nbconvert_exporter": "python",
   "pygments_lexer": "ipython3",
   "version": "3.12.2"
  }
 },
 "nbformat": 4,
 "nbformat_minor": 5
}
